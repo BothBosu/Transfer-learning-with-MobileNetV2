{
  "nbformat": 4,
  "nbformat_minor": 0,
  "metadata": {
    "colab": {
      "name": "MobleNetV2_predict.ipynb",
      "provenance": [],
      "mount_file_id": "1kCiGNIfyCwjZoWp3bCz_JOUqgydfvw3m",
      "authorship_tag": "ABX9TyM+lJycNVI2jMoFv0uPB8DH",
      "include_colab_link": true
    },
    "kernelspec": {
      "name": "python3",
      "display_name": "Python 3"
    },
    "accelerator": "GPU"
  },
  "cells": [
    {
      "cell_type": "markdown",
      "metadata": {
        "id": "view-in-github",
        "colab_type": "text"
      },
      "source": [
        "<a href=\"https://colab.research.google.com/github/lordpitipat/Transfer-learning-with-MobileNetV2/blob/master/MobleNetV2_predict.ipynb\" target=\"_parent\"><img src=\"https://colab.research.google.com/assets/colab-badge.svg\" alt=\"Open In Colab\"/></a>"
      ]
    },
    {
      "cell_type": "code",
      "metadata": {
        "id": "zkS4DUbqKJeL",
        "colab_type": "code",
        "colab": {}
      },
      "source": [
        "from tensorflow.keras.models import load_model \n",
        "from tensorflow.keras.preprocessing.image import ImageDataGenerator\n",
        "import numpy as np\n",
        "import pandas as pd"
      ],
      "execution_count": null,
      "outputs": []
    },
    {
      "cell_type": "code",
      "metadata": {
        "id": "VYbXY6CJKKMY",
        "colab_type": "code",
        "colab": {
          "base_uri": "https://localhost:8080/",
          "height": 34
        },
        "outputId": "79dc45ea-b477-4299-bace-b0eeace299e1"
      },
      "source": [
        "predict_dir = '/content/drive/My Drive/Grocery classification/test/'\n",
        "\n",
        "datagen = ImageDataGenerator(rescale=1./255)\n",
        "\n",
        "gen = datagen.flow_from_directory(predict_dir,\n",
        "                                  target_size=(224, 224),\n",
        "                                  shuffle = False,\n",
        "                                  class_mode='categorical',\n",
        "                                  batch_size=1)"
      ],
      "execution_count": null,
      "outputs": [
        {
          "output_type": "stream",
          "text": [
            "Found 12192 images belonging to 1 classes.\n"
          ],
          "name": "stdout"
        }
      ]
    },
    {
      "cell_type": "code",
      "metadata": {
        "id": "6gfe7c9INZAD",
        "colab_type": "code",
        "colab": {
          "base_uri": "https://localhost:8080/",
          "height": 195
        },
        "outputId": "4f0f5ebd-e5df-492f-9363-5577a0e61268"
      },
      "source": [
        "file_name = {'file_name':gen.filenames}\n",
        "predicted = pd.DataFrame(data=file_name)\n",
        "predicted.head()"
      ],
      "execution_count": null,
      "outputs": [
        {
          "output_type": "execute_result",
          "data": {
            "text/html": [
              "<div>\n",
              "<style scoped>\n",
              "    .dataframe tbody tr th:only-of-type {\n",
              "        vertical-align: middle;\n",
              "    }\n",
              "\n",
              "    .dataframe tbody tr th {\n",
              "        vertical-align: top;\n",
              "    }\n",
              "\n",
              "    .dataframe thead th {\n",
              "        text-align: right;\n",
              "    }\n",
              "</style>\n",
              "<table border=\"1\" class=\"dataframe\">\n",
              "  <thead>\n",
              "    <tr style=\"text-align: right;\">\n",
              "      <th></th>\n",
              "      <th>file_name</th>\n",
              "    </tr>\n",
              "  </thead>\n",
              "  <tbody>\n",
              "    <tr>\n",
              "      <th>0</th>\n",
              "      <td>test/0004b03ad7eabfb3989727c461310a84.jpg</td>\n",
              "    </tr>\n",
              "    <tr>\n",
              "      <th>1</th>\n",
              "      <td>test/0004d34271d0a0253f8a95d0746bae05.jpg</td>\n",
              "    </tr>\n",
              "    <tr>\n",
              "      <th>2</th>\n",
              "      <td>test/000d4ad3d0a372fd6eea2fee6bf738ef.jpg</td>\n",
              "    </tr>\n",
              "    <tr>\n",
              "      <th>3</th>\n",
              "      <td>test/0012f125ad07123e69468ae1d1d59de4.jpg</td>\n",
              "    </tr>\n",
              "    <tr>\n",
              "      <th>4</th>\n",
              "      <td>test/0015831b249b856e569e883a9dc6d4fa.jpg</td>\n",
              "    </tr>\n",
              "  </tbody>\n",
              "</table>\n",
              "</div>"
            ],
            "text/plain": [
              "                                   file_name\n",
              "0  test/0004b03ad7eabfb3989727c461310a84.jpg\n",
              "1  test/0004d34271d0a0253f8a95d0746bae05.jpg\n",
              "2  test/000d4ad3d0a372fd6eea2fee6bf738ef.jpg\n",
              "3  test/0012f125ad07123e69468ae1d1d59de4.jpg\n",
              "4  test/0015831b249b856e569e883a9dc6d4fa.jpg"
            ]
          },
          "metadata": {
            "tags": []
          },
          "execution_count": 8
        }
      ]
    },
    {
      "cell_type": "code",
      "metadata": {
        "id": "hvJgn2T5O3kD",
        "colab_type": "code",
        "colab": {
          "base_uri": "https://localhost:8080/",
          "height": 195
        },
        "outputId": "1f181f33-06cc-4fa4-b865-23bf7aa040a5"
      },
      "source": [
        "predicted['file_name'] = predicted['file_name'].str[5:]\n",
        "predicted.head()"
      ],
      "execution_count": null,
      "outputs": [
        {
          "output_type": "execute_result",
          "data": {
            "text/html": [
              "<div>\n",
              "<style scoped>\n",
              "    .dataframe tbody tr th:only-of-type {\n",
              "        vertical-align: middle;\n",
              "    }\n",
              "\n",
              "    .dataframe tbody tr th {\n",
              "        vertical-align: top;\n",
              "    }\n",
              "\n",
              "    .dataframe thead th {\n",
              "        text-align: right;\n",
              "    }\n",
              "</style>\n",
              "<table border=\"1\" class=\"dataframe\">\n",
              "  <thead>\n",
              "    <tr style=\"text-align: right;\">\n",
              "      <th></th>\n",
              "      <th>file_name</th>\n",
              "    </tr>\n",
              "  </thead>\n",
              "  <tbody>\n",
              "    <tr>\n",
              "      <th>0</th>\n",
              "      <td>0004b03ad7eabfb3989727c461310a84.jpg</td>\n",
              "    </tr>\n",
              "    <tr>\n",
              "      <th>1</th>\n",
              "      <td>0004d34271d0a0253f8a95d0746bae05.jpg</td>\n",
              "    </tr>\n",
              "    <tr>\n",
              "      <th>2</th>\n",
              "      <td>000d4ad3d0a372fd6eea2fee6bf738ef.jpg</td>\n",
              "    </tr>\n",
              "    <tr>\n",
              "      <th>3</th>\n",
              "      <td>0012f125ad07123e69468ae1d1d59de4.jpg</td>\n",
              "    </tr>\n",
              "    <tr>\n",
              "      <th>4</th>\n",
              "      <td>0015831b249b856e569e883a9dc6d4fa.jpg</td>\n",
              "    </tr>\n",
              "  </tbody>\n",
              "</table>\n",
              "</div>"
            ],
            "text/plain": [
              "                              file_name\n",
              "0  0004b03ad7eabfb3989727c461310a84.jpg\n",
              "1  0004d34271d0a0253f8a95d0746bae05.jpg\n",
              "2  000d4ad3d0a372fd6eea2fee6bf738ef.jpg\n",
              "3  0012f125ad07123e69468ae1d1d59de4.jpg\n",
              "4  0015831b249b856e569e883a9dc6d4fa.jpg"
            ]
          },
          "metadata": {
            "tags": []
          },
          "execution_count": 9
        }
      ]
    },
    {
      "cell_type": "code",
      "metadata": {
        "id": "yT-Qj3IoM4iE",
        "colab_type": "code",
        "colab": {
          "base_uri": "https://localhost:8080/",
          "height": 235
        },
        "outputId": "f3232a2f-5d2b-4ab6-b324-f79099b058a1"
      },
      "source": [
        "model = load_model('/content/drive/My Drive/Shopee data/model_save.h5')\n",
        "result = model.predict(gen)\n",
        "result"
      ],
      "execution_count": null,
      "outputs": [
        {
          "output_type": "execute_result",
          "data": {
            "text/plain": [
              "array([[8.22651375e-04, 1.96039735e-04, 6.53109106e-04, ...,\n",
              "        6.73282566e-03, 3.46524874e-04, 3.96853313e-03],\n",
              "       [2.51854360e-02, 2.53244638e-02, 1.42498838e-03, ...,\n",
              "        6.43584505e-03, 2.65925337e-04, 2.86742207e-02],\n",
              "       [9.15579130e-06, 3.09673669e-06, 6.64430438e-04, ...,\n",
              "        7.05687106e-01, 3.36004496e-02, 1.89018133e-03],\n",
              "       ...,\n",
              "       [1.01134683e-05, 5.35053732e-06, 1.88247600e-06, ...,\n",
              "        5.06353681e-04, 6.81195990e-04, 1.61233149e-03],\n",
              "       [1.18408370e-05, 8.77126240e-06, 1.67946873e-05, ...,\n",
              "        1.06260904e-05, 5.95531492e-06, 7.26943335e-06],\n",
              "       [4.14443342e-03, 3.87396358e-05, 2.43805451e-04, ...,\n",
              "        1.45739075e-02, 3.58915771e-03, 1.13478638e-01]], dtype=float32)"
            ]
          },
          "metadata": {
            "tags": []
          },
          "execution_count": 12
        }
      ]
    },
    {
      "cell_type": "code",
      "metadata": {
        "id": "rjsTHEUlwajd",
        "colab_type": "code",
        "colab": {
          "base_uri": "https://localhost:8080/",
          "height": 34
        },
        "outputId": "8b8f7483-a012-4e6f-e6e7-a4c785e3fd57"
      },
      "source": [
        "classes = result.argmax(axis=-1)\n",
        "classes"
      ],
      "execution_count": null,
      "outputs": [
        {
          "output_type": "execute_result",
          "data": {
            "text/plain": [
              "array([12, 31, 39, ..., 10, 16, 12])"
            ]
          },
          "metadata": {
            "tags": []
          },
          "execution_count": 16
        }
      ]
    },
    {
      "cell_type": "code",
      "metadata": {
        "id": "0ygzs6q2S9uu",
        "colab_type": "code",
        "colab": {}
      },
      "source": [
        "predicted['class'] = classes"
      ],
      "execution_count": null,
      "outputs": []
    },
    {
      "cell_type": "code",
      "metadata": {
        "id": "eKU-opo4wjSr",
        "colab_type": "code",
        "colab": {
          "base_uri": "https://localhost:8080/",
          "height": 402
        },
        "outputId": "ecf36580-3bab-4eb8-e64b-fe825d3c558f"
      },
      "source": [
        "predicted"
      ],
      "execution_count": null,
      "outputs": [
        {
          "output_type": "execute_result",
          "data": {
            "text/html": [
              "<div>\n",
              "<style scoped>\n",
              "    .dataframe tbody tr th:only-of-type {\n",
              "        vertical-align: middle;\n",
              "    }\n",
              "\n",
              "    .dataframe tbody tr th {\n",
              "        vertical-align: top;\n",
              "    }\n",
              "\n",
              "    .dataframe thead th {\n",
              "        text-align: right;\n",
              "    }\n",
              "</style>\n",
              "<table border=\"1\" class=\"dataframe\">\n",
              "  <thead>\n",
              "    <tr style=\"text-align: right;\">\n",
              "      <th></th>\n",
              "      <th>file_name</th>\n",
              "      <th>class</th>\n",
              "    </tr>\n",
              "  </thead>\n",
              "  <tbody>\n",
              "    <tr>\n",
              "      <th>0</th>\n",
              "      <td>0004b03ad7eabfb3989727c461310a84.jpg</td>\n",
              "      <td>12</td>\n",
              "    </tr>\n",
              "    <tr>\n",
              "      <th>1</th>\n",
              "      <td>0004d34271d0a0253f8a95d0746bae05.jpg</td>\n",
              "      <td>31</td>\n",
              "    </tr>\n",
              "    <tr>\n",
              "      <th>2</th>\n",
              "      <td>000d4ad3d0a372fd6eea2fee6bf738ef.jpg</td>\n",
              "      <td>39</td>\n",
              "    </tr>\n",
              "    <tr>\n",
              "      <th>3</th>\n",
              "      <td>0012f125ad07123e69468ae1d1d59de4.jpg</td>\n",
              "      <td>22</td>\n",
              "    </tr>\n",
              "    <tr>\n",
              "      <th>4</th>\n",
              "      <td>0015831b249b856e569e883a9dc6d4fa.jpg</td>\n",
              "      <td>24</td>\n",
              "    </tr>\n",
              "    <tr>\n",
              "      <th>...</th>\n",
              "      <td>...</td>\n",
              "      <td>...</td>\n",
              "    </tr>\n",
              "    <tr>\n",
              "      <th>12187</th>\n",
              "      <td>ffef3b0e7505855ba5794ebab9aff719.jpg</td>\n",
              "      <td>9</td>\n",
              "    </tr>\n",
              "    <tr>\n",
              "      <th>12188</th>\n",
              "      <td>ffef86f7872cd020992e00b7cf6585c7.jpg</td>\n",
              "      <td>41</td>\n",
              "    </tr>\n",
              "    <tr>\n",
              "      <th>12189</th>\n",
              "      <td>fff8fdfc178e3e94414fc10c69271f88.jpg</td>\n",
              "      <td>10</td>\n",
              "    </tr>\n",
              "    <tr>\n",
              "      <th>12190</th>\n",
              "      <td>fff9ee1d7f920b920dd603631d24bc07.jpg</td>\n",
              "      <td>16</td>\n",
              "    </tr>\n",
              "    <tr>\n",
              "      <th>12191</th>\n",
              "      <td>fffb6700a1f0e34254d508cd5f125180.jpg</td>\n",
              "      <td>12</td>\n",
              "    </tr>\n",
              "  </tbody>\n",
              "</table>\n",
              "<p>12192 rows × 2 columns</p>\n",
              "</div>"
            ],
            "text/plain": [
              "                                  file_name  class\n",
              "0      0004b03ad7eabfb3989727c461310a84.jpg     12\n",
              "1      0004d34271d0a0253f8a95d0746bae05.jpg     31\n",
              "2      000d4ad3d0a372fd6eea2fee6bf738ef.jpg     39\n",
              "3      0012f125ad07123e69468ae1d1d59de4.jpg     22\n",
              "4      0015831b249b856e569e883a9dc6d4fa.jpg     24\n",
              "...                                     ...    ...\n",
              "12187  ffef3b0e7505855ba5794ebab9aff719.jpg      9\n",
              "12188  ffef86f7872cd020992e00b7cf6585c7.jpg     41\n",
              "12189  fff8fdfc178e3e94414fc10c69271f88.jpg     10\n",
              "12190  fff9ee1d7f920b920dd603631d24bc07.jpg     16\n",
              "12191  fffb6700a1f0e34254d508cd5f125180.jpg     12\n",
              "\n",
              "[12192 rows x 2 columns]"
            ]
          },
          "metadata": {
            "tags": []
          },
          "execution_count": 19
        }
      ]
    },
    {
      "cell_type": "code",
      "metadata": {
        "id": "vRoHgaKKyz86",
        "colab_type": "code",
        "colab": {}
      },
      "source": [
        "predicted.to_csv('/content/drive/My Drive/Shopee data/predict_1.csv')"
      ],
      "execution_count": null,
      "outputs": []
    }
  ]
}